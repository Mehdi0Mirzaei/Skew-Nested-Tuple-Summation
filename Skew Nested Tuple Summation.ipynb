{
 "cells": [
  {
   "cell_type": "code",
   "execution_count": 20,
   "id": "8251f6c2",
   "metadata": {},
   "outputs": [
    {
     "name": "stdout",
     "output_type": "stream",
     "text": [
      "The original tuple is : (5, (6, (1, (9, (10, None)))))\n",
      "Summation of 1st positions : 31\n"
     ]
    }
   ],
   "source": [
    "# initializing tuple\n",
    "test_tup = (5, (6, (1, (9, (10, None)))))\n",
    " \n",
    "# printing original tuple\n",
    "print(\"The original tuple is : \" + str(test_tup))\n",
    " \n",
    "res = 0\n",
    "while test_tup:\n",
    "    res += test_tup[0]\n",
    "     \n",
    "    # assigning inner tuple as original\n",
    "    test_tup = test_tup[1]\n",
    " # printing result \n",
    "print(\"Summation of 1st positions : \" + str(res)) \n"
   ]
  },
  {
   "cell_type": "code",
   "execution_count": 21,
   "id": "9beaaaac",
   "metadata": {},
   "outputs": [
    {
     "name": "stdout",
     "output_type": "stream",
     "text": [
      "The original tuple is : (5, (6, (1, (9, (10, None)))))\n",
      "Summation of 1st positions : 31\n"
     ]
    }
   ],
   "source": [
    "def tup_sum(test_tup):\n",
    "     \n",
    "    # return on None \n",
    "    if not test_tup:\n",
    "        return 0\n",
    "    else:\n",
    "        return test_tup[0] + tup_sum(test_tup[1])\n",
    " # initializing tuple\n",
    "test_tup = (5, (6, (1, (9, (10, None)))))\n",
    " \n",
    "# printing original tuple\n",
    "print(\"The original tuple is : \" + str(test_tup))\n",
    " \n",
    "# calling fnc.\n",
    "res = tup_sum(test_tup)\n",
    " \n",
    "# printing result \n",
    "print(\"Summation of 1st positions : \" + str(res))"
   ]
  },
  {
   "cell_type": "code",
   "execution_count": 22,
   "id": "4945d815",
   "metadata": {},
   "outputs": [
    {
     "name": "stdout",
     "output_type": "stream",
     "text": [
      "The original tuple is: (5, (6, (1, (9, (10, None)))))\n",
      "Sum of first elements: 5\n"
     ]
    }
   ],
   "source": [
    "def tup_sum(test_tup):\n",
    "    # Base case: return 0 for empty tuple or tuple with no integer elements\n",
    "    if not test_tup or not isinstance(test_tup[0], int):\n",
    "        return 0\n",
    "    else:\n",
    "        # Recursively compute sum of first element of current tuple and remaining tuples\n",
    "        return test_tup[0] + tup_sum(test_tup[1:])\n",
    " # Example tuple\n",
    "test_tup = (5, (6, (1, (9, (10, None)))))\n",
    " \n",
    "# Print original tuple\n",
    "print(\"The original tuple is:\", test_tup)\n",
    " \n",
    "# Compute sum of first elements\n",
    "res = tup_sum(test_tup)\n",
    " \n",
    "# Print result \n",
    "print(\"Sum of first elements:\", res)"
   ]
  },
  {
   "cell_type": "code",
   "execution_count": 24,
   "id": "55b25c6c",
   "metadata": {},
   "outputs": [
    {
     "name": "stdout",
     "output_type": "stream",
     "text": [
      "The original tuple is : (5, (6, (1, (9, (10, None)))))\n",
      "Summation of 1st positions : 31\n"
     ]
    }
   ],
   "source": [
    "def get_first_element(tup):\n",
    "    if isinstance(tup, tuple):\n",
    "        yield tup[0]\n",
    "        yield from get_first_element(tup[1])\n",
    " # initializing tuple\n",
    "test_tup = (5, (6, (1, (9, (10, None)))))\n",
    " \n",
    " # printing original tuple\n",
    "print(\"The original tuple is : \" + str(test_tup))\n",
    " \n",
    "# calculate sum of first elements using generator and sum\n",
    "res = sum(get_first_element(test_tup))\n",
    " \n",
    "# printing result \n",
    "print(\"Summation of 1st positions : \" + str(res))"
   ]
  },
  {
   "cell_type": "code",
   "execution_count": null,
   "id": "74ad72aa",
   "metadata": {},
   "outputs": [],
   "source": []
  }
 ],
 "metadata": {
  "kernelspec": {
   "display_name": "Python 3 (ipykernel)",
   "language": "python",
   "name": "python3"
  },
  "language_info": {
   "codemirror_mode": {
    "name": "ipython",
    "version": 3
   },
   "file_extension": ".py",
   "mimetype": "text/x-python",
   "name": "python",
   "nbconvert_exporter": "python",
   "pygments_lexer": "ipython3",
   "version": "3.9.13"
  }
 },
 "nbformat": 4,
 "nbformat_minor": 5
}
